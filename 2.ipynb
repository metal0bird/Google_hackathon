{
 "cells": [
  {
   "cell_type": "code",
   "execution_count": 1,
   "metadata": {},
   "outputs": [
    {
     "name": "stderr",
     "output_type": "stream",
     "text": [
      "/var/folders/rp/1sw7hxcj131dm68xmk1jj34c0000gn/T/ipykernel_8467/3307608759.py:4: DtypeWarning: Columns (27) have mixed types. Specify dtype option on import or set low_memory=False.\n",
      "  train1 = pd.read_csv('test1.csv')\n",
      "/var/folders/rp/1sw7hxcj131dm68xmk1jj34c0000gn/T/ipykernel_8467/3307608759.py:5: DtypeWarning: Columns (27) have mixed types. Specify dtype option on import or set low_memory=False.\n",
      "  train2 = pd.read_csv('train2.csv')\n",
      "/var/folders/rp/1sw7hxcj131dm68xmk1jj34c0000gn/T/ipykernel_8467/3307608759.py:6: DtypeWarning: Columns (27) have mixed types. Specify dtype option on import or set low_memory=False.\n",
      "  train3 = pd.read_csv('test3.csv')\n"
     ]
    }
   ],
   "source": [
    "import pandas as pd\n",
    "import numpy as np \n",
    "\n",
    "train1 = pd.read_csv('test1.csv')\n",
    "train2 = pd.read_csv('train2.csv')\n",
    "train3 = pd.read_csv('test3.csv')\n",
    "train = pd.concat([train2, train3], axis=0)\n",
    "\n",
    "#test1 = pd.read_csv('train1.csv')\n",
    "#test2 = pd.read_csv('test2.csv')\n",
    "#test3 = pd.read_csv('train3.csv')\n",
    "#test = pd.concat([test1,test2, test3], axis=0)\n",
    "\n"
   ]
  },
  {
   "cell_type": "code",
   "execution_count": 4,
   "metadata": {},
   "outputs": [
    {
     "data": {
      "text/plain": [
       "(199781, 73)"
      ]
     },
     "execution_count": 4,
     "metadata": {},
     "output_type": "execute_result"
    }
   ],
   "source": [
    "train_drop = train2.dropna(thresh=train2.shape[0]*0.75, axis=1)\n",
    "test_drop = test2.dropna(thresh=test2.shape[0]*0.75, axis=1)\n",
    "\n",
    "\n",
    "train_drop.shape\n",
    "test_drop.shape\n",
    "\n",
    "\n",
    "\n"
   ]
  },
  {
   "cell_type": "code",
   "execution_count": 5,
   "metadata": {},
   "outputs": [],
   "source": [
    "x=train_drop.isna().sum().sum()\n",
    "y=test_drop.isna().sum().sum()\n"
   ]
  },
  {
   "cell_type": "code",
   "execution_count": 3,
   "metadata": {},
   "outputs": [],
   "source": [
    "train_10000=train2.sample(n=10000)\n",
    "test_2000=test2.sample(n=2000)"
   ]
  },
  {
   "cell_type": "code",
   "execution_count": 4,
   "metadata": {},
   "outputs": [],
   "source": [
    "train_10000 = train2.fillna(train2.mean())\n",
    "test_2000 = test2.fillna(test2.mean())\n",
    "\n",
    "\n",
    "\n"
   ]
  },
  {
   "cell_type": "code",
   "execution_count": 2,
   "metadata": {},
   "outputs": [
    {
     "data": {
      "text/html": [
       "<div>\n",
       "<style scoped>\n",
       "    .dataframe tbody tr th:only-of-type {\n",
       "        vertical-align: middle;\n",
       "    }\n",
       "\n",
       "    .dataframe tbody tr th {\n",
       "        vertical-align: top;\n",
       "    }\n",
       "\n",
       "    .dataframe thead th {\n",
       "        text-align: right;\n",
       "    }\n",
       "</style>\n",
       "<table border=\"1\" class=\"dataframe\">\n",
       "  <thead>\n",
       "    <tr style=\"text-align: right;\">\n",
       "      <th></th>\n",
       "      <th>security_product_name</th>\n",
       "      <th>machine_version</th>\n",
       "      <th>app_version</th>\n",
       "      <th>av_sig_version</th>\n",
       "      <th>is_beta</th>\n",
       "      <th>rtp_state</th>\n",
       "      <th>is_sxs_passive</th>\n",
       "      <th>default_browser</th>\n",
       "      <th>av_status</th>\n",
       "      <th>av_prod_installed</th>\n",
       "      <th>...</th>\n",
       "      <th>secure_boot_status</th>\n",
       "      <th>wim_boot_status</th>\n",
       "      <th>virtual_dev_status</th>\n",
       "      <th>touch_support</th>\n",
       "      <th>pen_support</th>\n",
       "      <th>aoac_support</th>\n",
       "      <th>is_gamer</th>\n",
       "      <th>region_id</th>\n",
       "      <th>malware_status</th>\n",
       "      <th>machine_id</th>\n",
       "    </tr>\n",
       "  </thead>\n",
       "  <tbody>\n",
       "    <tr>\n",
       "      <th>0</th>\n",
       "      <td>win8defender</td>\n",
       "      <td>1.1.15200.1</td>\n",
       "      <td>4.18.1807.18075</td>\n",
       "      <td>1.275.1103.0</td>\n",
       "      <td>0</td>\n",
       "      <td>7.0</td>\n",
       "      <td>0</td>\n",
       "      <td>NaN</td>\n",
       "      <td>53447.0</td>\n",
       "      <td>1.0</td>\n",
       "      <td>...</td>\n",
       "      <td>1</td>\n",
       "      <td>NaN</td>\n",
       "      <td>0.0</td>\n",
       "      <td>0</td>\n",
       "      <td>0</td>\n",
       "      <td>0.0</td>\n",
       "      <td>0.0</td>\n",
       "      <td>1.0</td>\n",
       "      <td>0.0</td>\n",
       "      <td>8921484</td>\n",
       "    </tr>\n",
       "    <tr>\n",
       "      <th>1</th>\n",
       "      <td>win8defender</td>\n",
       "      <td>1.1.15100.1</td>\n",
       "      <td>4.18.1806.18062</td>\n",
       "      <td>1.273.545.0</td>\n",
       "      <td>0</td>\n",
       "      <td>7.0</td>\n",
       "      <td>0</td>\n",
       "      <td>NaN</td>\n",
       "      <td>53447.0</td>\n",
       "      <td>1.0</td>\n",
       "      <td>...</td>\n",
       "      <td>0</td>\n",
       "      <td>0.0</td>\n",
       "      <td>0.0</td>\n",
       "      <td>0</td>\n",
       "      <td>0</td>\n",
       "      <td>0.0</td>\n",
       "      <td>0.0</td>\n",
       "      <td>11.0</td>\n",
       "      <td>0.0</td>\n",
       "      <td>8921485</td>\n",
       "    </tr>\n",
       "    <tr>\n",
       "      <th>2</th>\n",
       "      <td>win8defender</td>\n",
       "      <td>1.1.15200.1</td>\n",
       "      <td>4.18.1807.18075</td>\n",
       "      <td>1.275.1011.0</td>\n",
       "      <td>0</td>\n",
       "      <td>7.0</td>\n",
       "      <td>0</td>\n",
       "      <td>NaN</td>\n",
       "      <td>42424.0</td>\n",
       "      <td>3.0</td>\n",
       "      <td>...</td>\n",
       "      <td>1</td>\n",
       "      <td>NaN</td>\n",
       "      <td>0.0</td>\n",
       "      <td>1</td>\n",
       "      <td>0</td>\n",
       "      <td>0.0</td>\n",
       "      <td>1.0</td>\n",
       "      <td>11.0</td>\n",
       "      <td>0.0</td>\n",
       "      <td>8921486</td>\n",
       "    </tr>\n",
       "    <tr>\n",
       "      <th>3</th>\n",
       "      <td>win8defender</td>\n",
       "      <td>1.1.14901.4</td>\n",
       "      <td>4.16.17656.18052</td>\n",
       "      <td>1.269.846.0</td>\n",
       "      <td>0</td>\n",
       "      <td>7.0</td>\n",
       "      <td>0</td>\n",
       "      <td>NaN</td>\n",
       "      <td>53447.0</td>\n",
       "      <td>1.0</td>\n",
       "      <td>...</td>\n",
       "      <td>0</td>\n",
       "      <td>0.0</td>\n",
       "      <td>0.0</td>\n",
       "      <td>0</td>\n",
       "      <td>0</td>\n",
       "      <td>0.0</td>\n",
       "      <td>0.0</td>\n",
       "      <td>8.0</td>\n",
       "      <td>0.0</td>\n",
       "      <td>8921487</td>\n",
       "    </tr>\n",
       "    <tr>\n",
       "      <th>4</th>\n",
       "      <td>win8defender</td>\n",
       "      <td>1.1.14600.4</td>\n",
       "      <td>4.13.17134.1</td>\n",
       "      <td>1.263.48.0</td>\n",
       "      <td>0</td>\n",
       "      <td>7.0</td>\n",
       "      <td>0</td>\n",
       "      <td>NaN</td>\n",
       "      <td>53447.0</td>\n",
       "      <td>1.0</td>\n",
       "      <td>...</td>\n",
       "      <td>0</td>\n",
       "      <td>NaN</td>\n",
       "      <td>0.0</td>\n",
       "      <td>0</td>\n",
       "      <td>0</td>\n",
       "      <td>0.0</td>\n",
       "      <td>0.0</td>\n",
       "      <td>8.0</td>\n",
       "      <td>0.0</td>\n",
       "      <td>8921489</td>\n",
       "    </tr>\n",
       "  </tbody>\n",
       "</table>\n",
       "<p>5 rows × 83 columns</p>\n",
       "</div>"
      ],
      "text/plain": [
       "  security_product_name machine_version       app_version av_sig_version  \\\n",
       "0          win8defender     1.1.15200.1   4.18.1807.18075   1.275.1103.0   \n",
       "1          win8defender     1.1.15100.1   4.18.1806.18062    1.273.545.0   \n",
       "2          win8defender     1.1.15200.1   4.18.1807.18075   1.275.1011.0   \n",
       "3          win8defender     1.1.14901.4  4.16.17656.18052    1.269.846.0   \n",
       "4          win8defender     1.1.14600.4      4.13.17134.1     1.263.48.0   \n",
       "\n",
       "   is_beta  rtp_state  is_sxs_passive  default_browser  av_status  \\\n",
       "0        0        7.0               0              NaN    53447.0   \n",
       "1        0        7.0               0              NaN    53447.0   \n",
       "2        0        7.0               0              NaN    42424.0   \n",
       "3        0        7.0               0              NaN    53447.0   \n",
       "4        0        7.0               0              NaN    53447.0   \n",
       "\n",
       "   av_prod_installed  ...  secure_boot_status  wim_boot_status  \\\n",
       "0                1.0  ...                   1              NaN   \n",
       "1                1.0  ...                   0              0.0   \n",
       "2                3.0  ...                   1              NaN   \n",
       "3                1.0  ...                   0              0.0   \n",
       "4                1.0  ...                   0              NaN   \n",
       "\n",
       "   virtual_dev_status  touch_support  pen_support  aoac_support  is_gamer  \\\n",
       "0                 0.0              0            0           0.0       0.0   \n",
       "1                 0.0              0            0           0.0       0.0   \n",
       "2                 0.0              1            0           0.0       1.0   \n",
       "3                 0.0              0            0           0.0       0.0   \n",
       "4                 0.0              0            0           0.0       0.0   \n",
       "\n",
       "  region_id malware_status machine_id  \n",
       "0       1.0            0.0    8921484  \n",
       "1      11.0            0.0    8921485  \n",
       "2      11.0            0.0    8921486  \n",
       "3       8.0            0.0    8921487  \n",
       "4       8.0            0.0    8921489  \n",
       "\n",
       "[5 rows x 83 columns]"
      ]
     },
     "execution_count": 2,
     "metadata": {},
     "output_type": "execute_result"
    }
   ],
   "source": [
    "train.head(5)"
   ]
  },
  {
   "cell_type": "code",
   "execution_count": 3,
   "metadata": {},
   "outputs": [
    {
     "data": {
      "text/plain": [
       "(500207, 83)"
      ]
     },
     "execution_count": 3,
     "metadata": {},
     "output_type": "execute_result"
    }
   ],
   "source": [
    "train.shape"
   ]
  },
  {
   "cell_type": "code",
   "execution_count": null,
   "metadata": {},
   "outputs": [],
   "source": [
    "import numpy as np #linear algebra\n",
    "import pandas as pd #data processing\n",
    "import os #operating system dependent modules of python\n",
    "import matplotlib.pyplot as plt #visualization\n",
    "import seaborn as sns #visualization\n",
    "%matplotlib inline\n",
    "from nltk.corpus import stopwords\n",
    "from nltk.stem import PorterStemmer\n",
    "from sklearn.preprocessing import LabelEncoder\n",
    "import re\n",
    "from wordcloud import WordCloud, ImageColorGenerator\n",
    "from sklearn.feature_extraction.text import CountVectorizer, TfidfVectorizer"
   ]
  }
 ],
 "metadata": {
  "kernelspec": {
   "display_name": "Python 3.10.5 64-bit",
   "language": "python",
   "name": "python3"
  },
  "language_info": {
   "codemirror_mode": {
    "name": "ipython",
    "version": 3
   },
   "file_extension": ".py",
   "mimetype": "text/x-python",
   "name": "python",
   "nbconvert_exporter": "python",
   "pygments_lexer": "ipython3",
   "version": "3.10.5"
  },
  "orig_nbformat": 4,
  "vscode": {
   "interpreter": {
    "hash": "aee8b7b246df8f9039afb4144a1f6fd8d2ca17a180786b69acc140d282b71a49"
   }
  }
 },
 "nbformat": 4,
 "nbformat_minor": 2
}
