{
 "cells": [
  {
   "cell_type": "code",
   "execution_count": 1,
   "metadata": {},
   "outputs": [],
   "source": [
    "\n",
    "import pandas as pd\n",
    "import numpy as np \n",
    "import matplotlib.pyplot as plt\n",
    "from sklearn import preprocessing\n",
    "le=preprocessing.LabelEncoder()\n",
    "from sklearn.neighbors import KNeighborsClassifier\n",
    "import math\n",
    "import os"
   ]
  },
  {
   "cell_type": "code",
   "execution_count": 21,
   "metadata": {},
   "outputs": [],
   "source": [
    "train_data=pd.read_csv('train_fi.csv')"
   ]
  },
  {
   "cell_type": "code",
   "execution_count": 19,
   "metadata": {},
   "outputs": [
    {
     "name": "stderr",
     "output_type": "stream",
     "text": [
      "/var/folders/rp/1sw7hxcj131dm68xmk1jj34c0000gn/T/ipykernel_30630/950763403.py:4: DtypeWarning: Columns (28) have mixed types. Specify dtype option on import or set low_memory=False.\n",
      "  fold=pd.read_csv(os.path.join(dirname, filename))\n",
      "/var/folders/rp/1sw7hxcj131dm68xmk1jj34c0000gn/T/ipykernel_30630/950763403.py:4: DtypeWarning: Columns (28) have mixed types. Specify dtype option on import or set low_memory=False.\n",
      "  fold=pd.read_csv(os.path.join(dirname, filename))\n",
      "/var/folders/rp/1sw7hxcj131dm68xmk1jj34c0000gn/T/ipykernel_30630/950763403.py:4: DtypeWarning: Columns (28) have mixed types. Specify dtype option on import or set low_memory=False.\n",
      "  fold=pd.read_csv(os.path.join(dirname, filename))\n",
      "/var/folders/rp/1sw7hxcj131dm68xmk1jj34c0000gn/T/ipykernel_30630/950763403.py:4: DtypeWarning: Columns (28) have mixed types. Specify dtype option on import or set low_memory=False.\n",
      "  fold=pd.read_csv(os.path.join(dirname, filename))\n",
      "/var/folders/rp/1sw7hxcj131dm68xmk1jj34c0000gn/T/ipykernel_30630/950763403.py:4: DtypeWarning: Columns (28) have mixed types. Specify dtype option on import or set low_memory=False.\n",
      "  fold=pd.read_csv(os.path.join(dirname, filename))\n",
      "/var/folders/rp/1sw7hxcj131dm68xmk1jj34c0000gn/T/ipykernel_30630/950763403.py:4: DtypeWarning: Columns (28) have mixed types. Specify dtype option on import or set low_memory=False.\n",
      "  fold=pd.read_csv(os.path.join(dirname, filename))\n",
      "/var/folders/rp/1sw7hxcj131dm68xmk1jj34c0000gn/T/ipykernel_30630/950763403.py:4: DtypeWarning: Columns (28) have mixed types. Specify dtype option on import or set low_memory=False.\n",
      "  fold=pd.read_csv(os.path.join(dirname, filename))\n",
      "/var/folders/rp/1sw7hxcj131dm68xmk1jj34c0000gn/T/ipykernel_30630/950763403.py:4: DtypeWarning: Columns (28) have mixed types. Specify dtype option on import or set low_memory=False.\n",
      "  fold=pd.read_csv(os.path.join(dirname, filename))\n",
      "/var/folders/rp/1sw7hxcj131dm68xmk1jj34c0000gn/T/ipykernel_30630/950763403.py:4: DtypeWarning: Columns (28) have mixed types. Specify dtype option on import or set low_memory=False.\n",
      "  fold=pd.read_csv(os.path.join(dirname, filename))\n",
      "/var/folders/rp/1sw7hxcj131dm68xmk1jj34c0000gn/T/ipykernel_30630/950763403.py:4: DtypeWarning: Columns (28) have mixed types. Specify dtype option on import or set low_memory=False.\n",
      "  fold=pd.read_csv(os.path.join(dirname, filename))\n",
      "/var/folders/rp/1sw7hxcj131dm68xmk1jj34c0000gn/T/ipykernel_30630/950763403.py:4: DtypeWarning: Columns (28) have mixed types. Specify dtype option on import or set low_memory=False.\n",
      "  fold=pd.read_csv(os.path.join(dirname, filename))\n",
      "/var/folders/rp/1sw7hxcj131dm68xmk1jj34c0000gn/T/ipykernel_30630/950763403.py:4: DtypeWarning: Columns (28) have mixed types. Specify dtype option on import or set low_memory=False.\n",
      "  fold=pd.read_csv(os.path.join(dirname, filename))\n",
      "/var/folders/rp/1sw7hxcj131dm68xmk1jj34c0000gn/T/ipykernel_30630/950763403.py:4: DtypeWarning: Columns (28) have mixed types. Specify dtype option on import or set low_memory=False.\n",
      "  fold=pd.read_csv(os.path.join(dirname, filename))\n",
      "/var/folders/rp/1sw7hxcj131dm68xmk1jj34c0000gn/T/ipykernel_30630/950763403.py:4: DtypeWarning: Columns (28) have mixed types. Specify dtype option on import or set low_memory=False.\n",
      "  fold=pd.read_csv(os.path.join(dirname, filename))\n",
      "/var/folders/rp/1sw7hxcj131dm68xmk1jj34c0000gn/T/ipykernel_30630/950763403.py:4: DtypeWarning: Columns (28) have mixed types. Specify dtype option on import or set low_memory=False.\n",
      "  fold=pd.read_csv(os.path.join(dirname, filename))\n",
      "/var/folders/rp/1sw7hxcj131dm68xmk1jj34c0000gn/T/ipykernel_30630/950763403.py:4: DtypeWarning: Columns (28) have mixed types. Specify dtype option on import or set low_memory=False.\n",
      "  fold=pd.read_csv(os.path.join(dirname, filename))\n",
      "/var/folders/rp/1sw7hxcj131dm68xmk1jj34c0000gn/T/ipykernel_30630/950763403.py:4: DtypeWarning: Columns (28) have mixed types. Specify dtype option on import or set low_memory=False.\n",
      "  fold=pd.read_csv(os.path.join(dirname, filename))\n",
      "/var/folders/rp/1sw7hxcj131dm68xmk1jj34c0000gn/T/ipykernel_30630/950763403.py:4: DtypeWarning: Columns (28) have mixed types. Specify dtype option on import or set low_memory=False.\n",
      "  fold=pd.read_csv(os.path.join(dirname, filename))\n",
      "/var/folders/rp/1sw7hxcj131dm68xmk1jj34c0000gn/T/ipykernel_30630/950763403.py:4: DtypeWarning: Columns (28) have mixed types. Specify dtype option on import or set low_memory=False.\n",
      "  fold=pd.read_csv(os.path.join(dirname, filename))\n",
      "/var/folders/rp/1sw7hxcj131dm68xmk1jj34c0000gn/T/ipykernel_30630/950763403.py:4: DtypeWarning: Columns (28) have mixed types. Specify dtype option on import or set low_memory=False.\n",
      "  fold=pd.read_csv(os.path.join(dirname, filename))\n",
      "/var/folders/rp/1sw7hxcj131dm68xmk1jj34c0000gn/T/ipykernel_30630/950763403.py:4: DtypeWarning: Columns (28) have mixed types. Specify dtype option on import or set low_memory=False.\n",
      "  fold=pd.read_csv(os.path.join(dirname, filename))\n",
      "/var/folders/rp/1sw7hxcj131dm68xmk1jj34c0000gn/T/ipykernel_30630/950763403.py:4: DtypeWarning: Columns (28) have mixed types. Specify dtype option on import or set low_memory=False.\n",
      "  fold=pd.read_csv(os.path.join(dirname, filename))\n",
      "/var/folders/rp/1sw7hxcj131dm68xmk1jj34c0000gn/T/ipykernel_30630/950763403.py:4: DtypeWarning: Columns (28) have mixed types. Specify dtype option on import or set low_memory=False.\n",
      "  fold=pd.read_csv(os.path.join(dirname, filename))\n",
      "/var/folders/rp/1sw7hxcj131dm68xmk1jj34c0000gn/T/ipykernel_30630/950763403.py:4: DtypeWarning: Columns (28) have mixed types. Specify dtype option on import or set low_memory=False.\n",
      "  fold=pd.read_csv(os.path.join(dirname, filename))\n",
      "/var/folders/rp/1sw7hxcj131dm68xmk1jj34c0000gn/T/ipykernel_30630/950763403.py:4: DtypeWarning: Columns (28) have mixed types. Specify dtype option on import or set low_memory=False.\n",
      "  fold=pd.read_csv(os.path.join(dirname, filename))\n",
      "/var/folders/rp/1sw7hxcj131dm68xmk1jj34c0000gn/T/ipykernel_30630/950763403.py:4: DtypeWarning: Columns (28) have mixed types. Specify dtype option on import or set low_memory=False.\n",
      "  fold=pd.read_csv(os.path.join(dirname, filename))\n",
      "/var/folders/rp/1sw7hxcj131dm68xmk1jj34c0000gn/T/ipykernel_30630/950763403.py:4: DtypeWarning: Columns (28) have mixed types. Specify dtype option on import or set low_memory=False.\n",
      "  fold=pd.read_csv(os.path.join(dirname, filename))\n",
      "/var/folders/rp/1sw7hxcj131dm68xmk1jj34c0000gn/T/ipykernel_30630/950763403.py:4: DtypeWarning: Columns (28) have mixed types. Specify dtype option on import or set low_memory=False.\n",
      "  fold=pd.read_csv(os.path.join(dirname, filename))\n",
      "/var/folders/rp/1sw7hxcj131dm68xmk1jj34c0000gn/T/ipykernel_30630/950763403.py:4: DtypeWarning: Columns (28) have mixed types. Specify dtype option on import or set low_memory=False.\n",
      "  fold=pd.read_csv(os.path.join(dirname, filename))\n",
      "/var/folders/rp/1sw7hxcj131dm68xmk1jj34c0000gn/T/ipykernel_30630/950763403.py:4: DtypeWarning: Columns (28) have mixed types. Specify dtype option on import or set low_memory=False.\n",
      "  fold=pd.read_csv(os.path.join(dirname, filename))\n",
      "/var/folders/rp/1sw7hxcj131dm68xmk1jj34c0000gn/T/ipykernel_30630/950763403.py:4: DtypeWarning: Columns (28) have mixed types. Specify dtype option on import or set low_memory=False.\n",
      "  fold=pd.read_csv(os.path.join(dirname, filename))\n",
      "/var/folders/rp/1sw7hxcj131dm68xmk1jj34c0000gn/T/ipykernel_30630/950763403.py:4: DtypeWarning: Columns (28) have mixed types. Specify dtype option on import or set low_memory=False.\n",
      "  fold=pd.read_csv(os.path.join(dirname, filename))\n",
      "/var/folders/rp/1sw7hxcj131dm68xmk1jj34c0000gn/T/ipykernel_30630/950763403.py:4: DtypeWarning: Columns (28) have mixed types. Specify dtype option on import or set low_memory=False.\n",
      "  fold=pd.read_csv(os.path.join(dirname, filename))\n",
      "/var/folders/rp/1sw7hxcj131dm68xmk1jj34c0000gn/T/ipykernel_30630/950763403.py:4: DtypeWarning: Columns (28) have mixed types. Specify dtype option on import or set low_memory=False.\n",
      "  fold=pd.read_csv(os.path.join(dirname, filename))\n",
      "/var/folders/rp/1sw7hxcj131dm68xmk1jj34c0000gn/T/ipykernel_30630/950763403.py:4: DtypeWarning: Columns (28) have mixed types. Specify dtype option on import or set low_memory=False.\n",
      "  fold=pd.read_csv(os.path.join(dirname, filename))\n",
      "/var/folders/rp/1sw7hxcj131dm68xmk1jj34c0000gn/T/ipykernel_30630/950763403.py:4: DtypeWarning: Columns (28) have mixed types. Specify dtype option on import or set low_memory=False.\n",
      "  fold=pd.read_csv(os.path.join(dirname, filename))\n",
      "/var/folders/rp/1sw7hxcj131dm68xmk1jj34c0000gn/T/ipykernel_30630/950763403.py:4: DtypeWarning: Columns (28) have mixed types. Specify dtype option on import or set low_memory=False.\n",
      "  fold=pd.read_csv(os.path.join(dirname, filename))\n",
      "/var/folders/rp/1sw7hxcj131dm68xmk1jj34c0000gn/T/ipykernel_30630/950763403.py:4: DtypeWarning: Columns (28) have mixed types. Specify dtype option on import or set low_memory=False.\n",
      "  fold=pd.read_csv(os.path.join(dirname, filename))\n",
      "/var/folders/rp/1sw7hxcj131dm68xmk1jj34c0000gn/T/ipykernel_30630/950763403.py:4: DtypeWarning: Columns (28) have mixed types. Specify dtype option on import or set low_memory=False.\n",
      "  fold=pd.read_csv(os.path.join(dirname, filename))\n",
      "/var/folders/rp/1sw7hxcj131dm68xmk1jj34c0000gn/T/ipykernel_30630/950763403.py:4: DtypeWarning: Columns (28) have mixed types. Specify dtype option on import or set low_memory=False.\n",
      "  fold=pd.read_csv(os.path.join(dirname, filename))\n",
      "/var/folders/rp/1sw7hxcj131dm68xmk1jj34c0000gn/T/ipykernel_30630/950763403.py:4: DtypeWarning: Columns (28) have mixed types. Specify dtype option on import or set low_memory=False.\n",
      "  fold=pd.read_csv(os.path.join(dirname, filename))\n",
      "/var/folders/rp/1sw7hxcj131dm68xmk1jj34c0000gn/T/ipykernel_30630/950763403.py:4: DtypeWarning: Columns (28) have mixed types. Specify dtype option on import or set low_memory=False.\n",
      "  fold=pd.read_csv(os.path.join(dirname, filename))\n",
      "/var/folders/rp/1sw7hxcj131dm68xmk1jj34c0000gn/T/ipykernel_30630/950763403.py:4: DtypeWarning: Columns (28) have mixed types. Specify dtype option on import or set low_memory=False.\n",
      "  fold=pd.read_csv(os.path.join(dirname, filename))\n"
     ]
    }
   ],
   "source": [
    "train_data=pd.DataFrame()\n",
    "for dirname, _, filenames in os.walk('train_raw'):\n",
    "    for filename in filenames:\n",
    "        fold=pd.read_csv(os.path.join(dirname, filename))\n",
    "        train_data=pd.concat([train_data,fold])\n",
    "\n",
    "train_data.to_csv('train_f.csv')\n",
    "\n"
   ]
  },
  {
   "cell_type": "code",
   "execution_count": 22,
   "metadata": {},
   "outputs": [],
   "source": [
    "test_data=pd.read_csv('test_fi.csv')"
   ]
  },
  {
   "cell_type": "code",
   "execution_count": 128,
   "metadata": {},
   "outputs": [],
   "source": [
    "train_data=pd.read_csv('shrektrains.csv')"
   ]
  },
  {
   "cell_type": "code",
   "execution_count": 134,
   "metadata": {},
   "outputs": [],
   "source": [
    "test_data=pd.read_csv('shrektest.csv')"
   ]
  },
  {
   "cell_type": "code",
   "execution_count": 8,
   "metadata": {},
   "outputs": [],
   "source": [
    "df4 = train_data[[\"disk_type\",\"firmware_version_id\",\"av_status\",\"malware_status\",\"machine_id\"]]"
   ]
  },
  {
   "cell_type": "code",
   "execution_count": 9,
   "metadata": {},
   "outputs": [],
   "source": [
    "df5=test_data[[\"disk_type\",\"firmware_version_id\",\"av_status\",\"machine_id\"]]"
   ]
  },
  {
   "cell_type": "code",
   "execution_count": 94,
   "metadata": {},
   "outputs": [],
   "source": [
    "df1=test_data['machine_id']\n",
    "df1.columns=[\"machine_id\"]\n",
    "arr1=df1.to_numpy()"
   ]
  },
  {
   "cell_type": "code",
   "execution_count": 95,
   "metadata": {},
   "outputs": [
    {
     "data": {
      "text/plain": [
       "numpy.ndarray"
      ]
     },
     "execution_count": 95,
     "metadata": {},
     "output_type": "execute_result"
    }
   ],
   "source": [
    "type(arr1)"
   ]
  },
  {
   "cell_type": "code",
   "execution_count": 23,
   "metadata": {},
   "outputs": [
    {
     "data": {
      "text/plain": [
       "(5000000, 38)"
      ]
     },
     "execution_count": 23,
     "metadata": {},
     "output_type": "execute_result"
    }
   ],
   "source": [
    "train_data.shape"
   ]
  },
  {
   "cell_type": "code",
   "execution_count": 24,
   "metadata": {},
   "outputs": [
    {
     "data": {
      "text/plain": [
       "(3921483, 36)"
      ]
     },
     "execution_count": 24,
     "metadata": {},
     "output_type": "execute_result"
    }
   ],
   "source": [
    "test_data.shape"
   ]
  },
  {
   "cell_type": "code",
   "execution_count": 50,
   "metadata": {},
   "outputs": [
    {
     "data": {
      "text/plain": [
       "(194, 34)"
      ]
     },
     "execution_count": 50,
     "metadata": {},
     "output_type": "execute_result"
    }
   ],
   "source": [
    "train_data.shape"
   ]
  },
  {
   "cell_type": "code",
   "execution_count": 139,
   "metadata": {},
   "outputs": [
    {
     "data": {
      "text/plain": [
       "(5000000, 76)"
      ]
     },
     "execution_count": 139,
     "metadata": {},
     "output_type": "execute_result"
    }
   ],
   "source": [
    "#removing the columns with more than 75% nan values\n",
    "train_drop = train_data.dropna(thresh=train_data.shape[0]*0.75, axis=1)\n",
    "train_drop.shape\n"
   ]
  },
  {
   "cell_type": "code",
   "execution_count": 45,
   "metadata": {},
   "outputs": [
    {
     "data": {
      "text/plain": [
       "(3921483, 30)"
      ]
     },
     "execution_count": 45,
     "metadata": {},
     "output_type": "execute_result"
    }
   ],
   "source": [
    "test_drop = test_data.dropna(thresh=test_data.shape[0]*0.75, axis=1)\n",
    "test_drop.shape"
   ]
  },
  {
   "cell_type": "code",
   "execution_count": 23,
   "metadata": {},
   "outputs": [
    {
     "data": {
      "text/plain": [
       "(194, 34)"
      ]
     },
     "execution_count": 23,
     "metadata": {},
     "output_type": "execute_result"
    }
   ],
   "source": [
    "test_drop.shape"
   ]
  },
  {
   "cell_type": "code",
   "execution_count": 25,
   "metadata": {},
   "outputs": [
    {
     "ename": "NameError",
     "evalue": "name 'train_drop' is not defined",
     "output_type": "error",
     "traceback": [
      "\u001b[0;31m---------------------------------------------------------------------------\u001b[0m",
      "\u001b[0;31mNameError\u001b[0m                                 Traceback (most recent call last)",
      "Cell \u001b[0;32mIn [25], line 1\u001b[0m\n\u001b[0;32m----> 1\u001b[0m train_drop[\u001b[39m'\u001b[39m\u001b[39mmalware_status\u001b[39m\u001b[39m'\u001b[39m]\u001b[39m=\u001b[39mtrain_data[\u001b[39m'\u001b[39m\u001b[39mmalware_status\u001b[39m\u001b[39m'\u001b[39m]\n",
      "\u001b[0;31mNameError\u001b[0m: name 'train_drop' is not defined"
     ]
    }
   ],
   "source": [
    "train_drop['malware_status']=train_data['malware_status']"
   ]
  },
  {
   "cell_type": "code",
   "execution_count": 10,
   "metadata": {},
   "outputs": [],
   "source": [
    "train_drop_after_delete = df4.dropna()\n",
    "train_drop_after_delete.shape\n",
    "c1=set(train_drop_after_delete.columns)"
   ]
  },
  {
   "cell_type": "code",
   "execution_count": 49,
   "metadata": {},
   "outputs": [
    {
     "data": {
      "text/plain": [
       "(3830782, 3)"
      ]
     },
     "execution_count": 49,
     "metadata": {},
     "output_type": "execute_result"
    }
   ],
   "source": [
    "test_drop_after_del = df5.dropna()\n",
    "test_drop_after_del.shape"
   ]
  },
  {
   "cell_type": "code",
   "execution_count": 26,
   "metadata": {},
   "outputs": [],
   "source": [
    "#del train_drop_after_delete['machine_id']\n",
    "\n",
    "del train_data['machine_id']\n"
   ]
  },
  {
   "cell_type": "code",
   "execution_count": 13,
   "metadata": {},
   "outputs": [],
   "source": [
    "#del test_drop_after_del['machine_id']\n",
    "del df5['machine_id']"
   ]
  },
  {
   "cell_type": "code",
   "execution_count": 27,
   "metadata": {},
   "outputs": [
    {
     "data": {
      "text/plain": [
       "(5000000, 37)"
      ]
     },
     "execution_count": 27,
     "metadata": {},
     "output_type": "execute_result"
    }
   ],
   "source": [
    "#applying data encoding \n",
    "train_data_en=train_data.apply(le.fit_transform)\n",
    "train_data_en.shape\n"
   ]
  },
  {
   "cell_type": "code",
   "execution_count": 28,
   "metadata": {},
   "outputs": [
    {
     "data": {
      "text/plain": [
       "(3921483, 36)"
      ]
     },
     "execution_count": 28,
     "metadata": {},
     "output_type": "execute_result"
    }
   ],
   "source": [
    "test_data_en=test_data.apply(le.fit_transform)\n",
    "test_data_en.shape\n",
    "#test_drop_encoded=test_drop_encoded.drop(test_drop_encoded.columns[[0]],axis=1)\n"
   ]
  },
  {
   "cell_type": "code",
   "execution_count": null,
   "metadata": {},
   "outputs": [],
   "source": [
    "del test_drop_after_del['machine_id']"
   ]
  },
  {
   "cell_type": "code",
   "execution_count": 33,
   "metadata": {},
   "outputs": [
    {
     "data": {
      "text/plain": [
       "array([0, 0, 0, ..., 0, 0, 0])"
      ]
     },
     "execution_count": 33,
     "metadata": {},
     "output_type": "execute_result"
    }
   ],
   "source": [
    "from sklearn.model_selection import train_test_split\n",
    "from sklearn.metrics import accuracy_score\n",
    "from sklearn.metrics import confusion_matrix\n",
    "from sklearn.metrics import classification_report\n",
    "from sklearn.metrics import roc_auc_score\n",
    "from sklearn.metrics import roc_curve\n",
    "from sklearn.metrics import auc\n",
    "from sklearn.metrics import plot_confusion_matrix\n",
    "from sklearn.linear_model import LogisticRegression\n",
    "from sklearn.neighbors import KNeighborsClassifier\n",
    "from sklearn.svm import SVC\n",
    "import seaborn as sns\n",
    "import warnings\n",
    "from sklearn.naive_bayes import GaussianNB\n",
    "from sklearn.ensemble import RandomForestClassifier\n",
    "from sklearn.ensemble import GradientBoostingClassifier\n",
    "from sklearn.ensemble import AdaBoostClassifier\n",
    "from sklearn.ensemble import BaggingClassifier\n",
    "from sklearn.tree import DecisionTreeClassifier\n",
    "from sklearn.neural_network import MLPClassifier\n",
    "\n",
    "warnings.filterwarnings(\"ignore\")\n",
    "\n",
    "\n",
    "X_train=train_data_en.drop(['malware_status'], axis=1)\n",
    "y_train=train_data_en[['malware_status']]\n",
    "\n",
    "X_test=test_data_en\n",
    "model=GradientBoostingClassifier()\n",
    "model.fit(X_train, y_train)\n",
    "y_pred = model.predict(test_data_en)\n",
    "\n",
    "y_pred"
   ]
  },
  {
   "cell_type": "code",
   "execution_count": 29,
   "metadata": {},
   "outputs": [],
   "source": [
    "X_train=train_data_en.drop(['malware_status'], axis=1)"
   ]
  },
  {
   "cell_type": "code",
   "execution_count": 30,
   "metadata": {},
   "outputs": [],
   "source": [
    "y_train=train_data_en[['malware_status']]"
   ]
  },
  {
   "cell_type": "code",
   "execution_count": 31,
   "metadata": {},
   "outputs": [],
   "source": [
    "X_test=test_data_en"
   ]
  },
  {
   "cell_type": "code",
   "execution_count": 103,
   "metadata": {},
   "outputs": [
    {
     "data": {
      "text/plain": [
       "numpy.ndarray"
      ]
     },
     "execution_count": 103,
     "metadata": {},
     "output_type": "execute_result"
    }
   ],
   "source": [
    "type(y_pred)"
   ]
  },
  {
   "cell_type": "code",
   "execution_count": 18,
   "metadata": {},
   "outputs": [
    {
     "data": {
      "text/plain": [
       "(3921483,)"
      ]
     },
     "execution_count": 18,
     "metadata": {},
     "output_type": "execute_result"
    }
   ],
   "source": [
    "y_pred.shape"
   ]
  },
  {
   "cell_type": "code",
   "execution_count": 34,
   "metadata": {},
   "outputs": [
    {
     "name": "stdout",
     "output_type": "stream",
     "text": [
      "[[      0 3733592]\n",
      " [      1  187891]]\n"
     ]
    }
   ],
   "source": [
    "\n",
    "unique, counts = np.unique(y_pred, return_counts=True)\n",
    "\n",
    "#display unique values and counts side by side\n",
    "print(np.asarray((unique, counts)).T)\n"
   ]
  },
  {
   "cell_type": "code",
   "execution_count": 100,
   "metadata": {},
   "outputs": [],
   "source": [
    "images = arr1\n",
    "label = y_pred\n",
    "dataset = pd.DataFrame({'label': label, 'images': list(images)}, columns=['machine_id', 'malware_status'])"
   ]
  },
  {
   "cell_type": "code",
   "execution_count": 116,
   "metadata": {},
   "outputs": [
    {
     "data": {
      "text/html": [
       "<div>\n",
       "<style scoped>\n",
       "    .dataframe tbody tr th:only-of-type {\n",
       "        vertical-align: middle;\n",
       "    }\n",
       "\n",
       "    .dataframe tbody tr th {\n",
       "        vertical-align: top;\n",
       "    }\n",
       "\n",
       "    .dataframe thead th {\n",
       "        text-align: right;\n",
       "    }\n",
       "</style>\n",
       "<table border=\"1\" class=\"dataframe\">\n",
       "  <thead>\n",
       "    <tr style=\"text-align: right;\">\n",
       "      <th></th>\n",
       "      <th>machine_id</th>\n",
       "      <th>malware_status</th>\n",
       "    </tr>\n",
       "  </thead>\n",
       "  <tbody>\n",
       "  </tbody>\n",
       "</table>\n",
       "</div>"
      ],
      "text/plain": [
       "Empty DataFrame\n",
       "Columns: [machine_id, malware_status]\n",
       "Index: []"
      ]
     },
     "execution_count": 116,
     "metadata": {},
     "output_type": "execute_result"
    }
   ],
   "source": [
    "dataset"
   ]
  },
  {
   "cell_type": "code",
   "execution_count": 105,
   "metadata": {},
   "outputs": [],
   "source": [
    "\n",
    "np.savetxt('sol2.csv',y_pred,delimiter=\",\")"
   ]
  },
  {
   "cell_type": "code",
   "execution_count": null,
   "metadata": {},
   "outputs": [],
   "source": [
    "from sklearn.ensemble import RandomForestClassifier\n",
    "from sklearn.model_selection import train_test_split\n",
    "from sklearn.metrics import accuracy_score\n",
    "from sklearn.metrics import confusion_matrix\n",
    "from sklearn.metrics import classification_report\n",
    "from sklearn.metrics import roc_auc_score\n",
    "from sklearn.metrics import roc_curve\n",
    "from sklearn.metrics import auc\n",
    "import pydotplus\n",
    "from sklearn.tree import export_graphviz\n",
    "from sklearn import tree\n",
    "import graphviz\n",
    "from sklearn.model_selection import GridSearchCV\n",
    "from sklearn.model_selection import RandomizedSearchCV\n",
    "from sklearn.model_selection import cross_val_score\n",
    "from sklearn.model_selection import cross_val_predict\n",
    "\n",
    "\n",
    "\n",
    "\n",
    "X_train=train_data_en.drop(['malware_status'], axis=1)\n",
    "y_train=train_data_en[['malware_status']]\n",
    "\n",
    "\n",
    "\n",
    "#build the model\n",
    "model = RandomForestClassifier(n_estimators=1000, random_state=42,min_samples_split=5,min_samples_leaf= 2,max_features='sqrt',max_depth=10,bootstrap=True)\n",
    "\n",
    "model.fit(X_train, y_train)\n",
    "\n",
    "#predict the model\n",
    "y_pred_forest = model.predict(test_data_en)\n",
    "\n",
    "y_pred_forest\n"
   ]
  },
  {
   "cell_type": "code",
   "execution_count": 112,
   "metadata": {},
   "outputs": [
    {
     "data": {
      "text/plain": [
       "numpy.int64"
      ]
     },
     "execution_count": 112,
     "metadata": {},
     "output_type": "execute_result"
    }
   ],
   "source": [
    "type(y_pred[0])\n"
   ]
  },
  {
   "cell_type": "markdown",
   "metadata": {},
   "source": [
    "gg=pd.read_csv('cpp_tonight__.csv')"
   ]
  },
  {
   "cell_type": "code",
   "execution_count": 18,
   "metadata": {},
   "outputs": [
    {
     "name": "stdout",
     "output_type": "stream",
     "text": [
      "[[      0 3781774]\n",
      " [      1   49008]]\n"
     ]
    }
   ],
   "source": [
    "unique, counts = np.unique(y_pred_forest, return_counts=True)\n",
    "\n",
    "#display unique values and counts side by side\n",
    "print(np.asarray((unique, counts)).T)"
   ]
  },
  {
   "cell_type": "code",
   "execution_count": 39,
   "metadata": {},
   "outputs": [
    {
     "data": {
      "text/html": [
       "<div>\n",
       "<style scoped>\n",
       "    .dataframe tbody tr th:only-of-type {\n",
       "        vertical-align: middle;\n",
       "    }\n",
       "\n",
       "    .dataframe tbody tr th {\n",
       "        vertical-align: top;\n",
       "    }\n",
       "\n",
       "    .dataframe thead th {\n",
       "        text-align: right;\n",
       "    }\n",
       "</style>\n",
       "<table border=\"1\" class=\"dataframe\">\n",
       "  <thead>\n",
       "    <tr style=\"text-align: right;\">\n",
       "      <th></th>\n",
       "      <th>machine_id</th>\n",
       "      <th>malware_status</th>\n",
       "    </tr>\n",
       "  </thead>\n",
       "  <tbody>\n",
       "    <tr>\n",
       "      <th>0</th>\n",
       "      <td>5000000</td>\n",
       "      <td>0</td>\n",
       "    </tr>\n",
       "    <tr>\n",
       "      <th>1</th>\n",
       "      <td>5000001</td>\n",
       "      <td>1</td>\n",
       "    </tr>\n",
       "    <tr>\n",
       "      <th>2</th>\n",
       "      <td>5000002</td>\n",
       "      <td>1</td>\n",
       "    </tr>\n",
       "    <tr>\n",
       "      <th>3</th>\n",
       "      <td>5000003</td>\n",
       "      <td>0</td>\n",
       "    </tr>\n",
       "    <tr>\n",
       "      <th>4</th>\n",
       "      <td>5000004</td>\n",
       "      <td>0</td>\n",
       "    </tr>\n",
       "  </tbody>\n",
       "</table>\n",
       "</div>"
      ],
      "text/plain": [
       "   machine_id  malware_status\n",
       "0     5000000               0\n",
       "1     5000001               1\n",
       "2     5000002               1\n",
       "3     5000003               0\n",
       "4     5000004               0"
      ]
     },
     "execution_count": 39,
     "metadata": {},
     "output_type": "execute_result"
    }
   ],
   "source": [
    "gg=pd.read_csv('cpp_tonight__.csv')\n",
    "gg.head()"
   ]
  },
  {
   "cell_type": "code",
   "execution_count": 42,
   "metadata": {},
   "outputs": [],
   "source": [
    "gg[\"malware_status\"]=y_pred"
   ]
  },
  {
   "cell_type": "code",
   "execution_count": 43,
   "metadata": {},
   "outputs": [
    {
     "data": {
      "text/html": [
       "<div>\n",
       "<style scoped>\n",
       "    .dataframe tbody tr th:only-of-type {\n",
       "        vertical-align: middle;\n",
       "    }\n",
       "\n",
       "    .dataframe tbody tr th {\n",
       "        vertical-align: top;\n",
       "    }\n",
       "\n",
       "    .dataframe thead th {\n",
       "        text-align: right;\n",
       "    }\n",
       "</style>\n",
       "<table border=\"1\" class=\"dataframe\">\n",
       "  <thead>\n",
       "    <tr style=\"text-align: right;\">\n",
       "      <th></th>\n",
       "      <th>machine_id</th>\n",
       "      <th>malware_status</th>\n",
       "    </tr>\n",
       "  </thead>\n",
       "  <tbody>\n",
       "    <tr>\n",
       "      <th>0</th>\n",
       "      <td>5000000</td>\n",
       "      <td>0</td>\n",
       "    </tr>\n",
       "    <tr>\n",
       "      <th>1</th>\n",
       "      <td>5000001</td>\n",
       "      <td>1</td>\n",
       "    </tr>\n",
       "    <tr>\n",
       "      <th>2</th>\n",
       "      <td>5000002</td>\n",
       "      <td>0</td>\n",
       "    </tr>\n",
       "    <tr>\n",
       "      <th>3</th>\n",
       "      <td>5000003</td>\n",
       "      <td>1</td>\n",
       "    </tr>\n",
       "    <tr>\n",
       "      <th>4</th>\n",
       "      <td>5000004</td>\n",
       "      <td>0</td>\n",
       "    </tr>\n",
       "  </tbody>\n",
       "</table>\n",
       "</div>"
      ],
      "text/plain": [
       "   machine_id  malware_status\n",
       "0     5000000               0\n",
       "1     5000001               1\n",
       "2     5000002               0\n",
       "3     5000003               1\n",
       "4     5000004               0"
      ]
     },
     "execution_count": 43,
     "metadata": {},
     "output_type": "execute_result"
    }
   ],
   "source": [
    "gg.head()"
   ]
  },
  {
   "cell_type": "code",
   "execution_count": 44,
   "metadata": {},
   "outputs": [],
   "source": [
    "gg.to_csv('sol4.csv',index=False)"
   ]
  },
  {
   "cell_type": "code",
   "execution_count": 15,
   "metadata": {},
   "outputs": [
    {
     "name": "stderr",
     "output_type": "stream",
     "text": [
      "/Library/Frameworks/Python.framework/Versions/3.10/lib/python3.10/site-packages/sklearn/neighbors/_classification.py:200: DataConversionWarning: A column-vector y was passed when a 1d array was expected. Please change the shape of y to (n_samples,), for example using ravel().\n",
      "  return self._fit(X, y)\n"
     ]
    },
    {
     "ename": "",
     "evalue": "",
     "output_type": "error",
     "traceback": [
      "\u001b[1;31mThe Kernel crashed while executing code in the the current cell or a previous cell. Please review the code in the cell(s) to identify a possible cause of the failure. Click <a href='https://aka.ms/vscodeJupyterKernelCrash'>here</a> for more info. View Jupyter <a href='command:jupyter.viewOutput'>log</a> for further details."
     ]
    },
    {
     "ename": "",
     "evalue": "",
     "output_type": "error",
     "traceback": [
      "\u001b[1;31mCanceled future for execute_request message before replies were done"
     ]
    }
   ],
   "source": [
    "#knn \n",
    "\n",
    "X_train=train_data_en.drop(['malware_status'], axis=1)\n",
    "y_train=train_data_en[['malware_status']]\n",
    "\n",
    "model = KNeighborsClassifier(n_neighbors = int(math.sqrt(len(X_train))))\n",
    "model.fit(X_train, y_train)\n",
    "\n",
    "\n",
    "\n",
    "\n",
    "X_test=test_data_en\n",
    "\n",
    "y_pred_knn= model.predict(test_data_en)\n",
    "\n",
    "\n",
    "y_pred_knn"
   ]
  },
  {
   "cell_type": "code",
   "execution_count": 26,
   "metadata": {},
   "outputs": [
    {
     "name": "stdout",
     "output_type": "stream",
     "text": [
      "(4000000, 50)\n",
      "(1000000, 50)\n",
      "(4000000,)\n",
      "(1000000,)\n",
      "0.619133\n",
      "[[312049 188209]\n",
      " [192658 307084]]\n",
      "              precision    recall  f1-score   support\n",
      "\n",
      "           0       0.62      0.62      0.62    500258\n",
      "           1       0.62      0.61      0.62    499742\n",
      "\n",
      "    accuracy                           0.62   1000000\n",
      "   macro avg       0.62      0.62      0.62   1000000\n",
      "weighted avg       0.62      0.62      0.62   1000000\n",
      "\n",
      "0.6191306029072378\n"
     ]
    },
    {
     "data": {
      "image/png": "[encoded data removed]",
      "text/plain": [
       "<Figure size 640x480 with 1 Axes>"
      ]
     },
     "metadata": {},
     "output_type": "display_data"
    }
   ],
   "source": [
    "from sklearn.model_selection import train_test_split\n",
    "from sklearn.metrics import accuracy_score\n",
    "from sklearn.metrics import confusion_matrix\n",
    "from sklearn.metrics import classification_report\n",
    "from sklearn.metrics import roc_auc_score\n",
    "from sklearn.metrics import roc_curve\n",
    "from sklearn.metrics import auc\n",
    "\n",
    "\n",
    "#split the data into train and test\n",
    "X_train, X_test, y_train, y_test = train_test_split(train_data_en.drop(['malware_status'], axis=1), train_data_en['malware_status'], test_size=0.2, random_state=42)\n",
    "\n",
    "#display the shape of the train and test data\n",
    "print(X_train.shape)\n",
    "print(X_test.shape)\n",
    "print(y_train.shape)\n",
    "print(y_test.shape)\n",
    "\n",
    "#build the model\n",
    "from sklearn.ensemble import RandomForestClassifier\n",
    "model = RandomForestClassifier(n_estimators=100, random_state=42)\n",
    "model.fit(X_train, y_train)\n",
    "\n",
    "#predict the model\n",
    "y_pred = model.predict(X_test)\n",
    "\n",
    "#display the accuracy score\n",
    "print(accuracy_score(y_test, y_pred))\n",
    "\n",
    "#display the confusion matrix\n",
    "print(confusion_matrix(y_test, y_pred))\n",
    "\n",
    "#display the classification report\n",
    "print(classification_report(y_test, y_pred))\n",
    "\n",
    "#display the roc_auc_score\n",
    "print(roc_auc_score(y_test, y_pred))\n",
    "\n",
    "#display the roc_curve\n",
    "fpr, tpr, thresholds = roc_curve(y_test, y_pred)\n",
    "roc_auc = auc(fpr, tpr)\n",
    "plt.title('Receiver Operating Characteristic')\n",
    "plt.plot(fpr, tpr, 'b', label='AUC = %0.2f'% roc_auc)\n",
    "plt.legend(loc='lower right')\n",
    "plt.plot([0,1],[0,1],'r--')\n",
    "plt.xlim([0,1])\n",
    "plt.ylim([0,1])\n",
    "plt.ylabel('True Positive Rate')\n",
    "plt.xlabel('False Positive Rate')\n",
    "plt.show()"
   ]
  },
  {
   "cell_type": "code",
   "execution_count": null,
   "metadata": {},
   "outputs": [],
   "source": [
    "from sklearn.ensemble import VotingClassifier\n",
    "from imblearn.over_sampling import SMOTE\n",
    "smote = SMOTE()\n",
    "X_train_smote, y_train_smote = smote.fit_resample(X_train, y_train)\n",
    "print(X_train_smote.shape)\n",
    "print(y_train_smote.shape)\n",
    "\n",
    "\n",
    "#gradient boosting classifier\n",
    "model_gbc= GradientBoostingClassifier()\n",
    "model_gbc.fit(X_train,y_train)\n",
    "y_pred_gbc=model_gbc.predict(X_test)\n",
    "print(\"gbc: \", y_pred_gbc)\n",
    "\n",
    "\n",
    "unique, counts = np.unique(y_pred_gbc, return_counts=True)\n",
    "\n",
    "#display unique values and counts side by side\n",
    "print(np.asarray((unique, counts)).T)"
   ]
  }
 ],
 "metadata": {
  "kernelspec": {
   "display_name": "Python 3.10.5 64-bit",
   "language": "python",
   "name": "python3"
  },
  "language_info": {
   "codemirror_mode": {
    "name": "ipython",
    "version": 3
   },
   "file_extension": ".py",
   "mimetype": "text/x-python",
   "name": "python",
   "nbconvert_exporter": "python",
   "pygments_lexer": "ipython3",
   "version": "3.10.5"
  },
  "orig_nbformat": 4,
  "vscode": {
   "interpreter": {
    "hash": "aee8b7b246df8f9039afb4144a1f6fd8d2ca17a180786b69acc140d282b71a49"
   }
  }
 },
 "nbformat": 4,
 "nbformat_minor": 2
}
